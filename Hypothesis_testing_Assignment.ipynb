{
 "cells": [
  {
   "cell_type": "markdown",
   "metadata": {},
   "source": [
    "---\n",
    "\n",
    "_You are currently looking at **version 1.1** of this notebook. To download notebooks and datafiles, as well as get help on Jupyter notebooks in the Coursera platform, visit the [Jupyter Notebook FAQ](https://www.coursera.org/learn/python-data-analysis/resources/0dhYG) course resource._\n",
    "\n",
    "---"
   ]
  },
  {
   "cell_type": "code",
   "execution_count": 57,
   "metadata": {
    "collapsed": true
   },
   "outputs": [],
   "source": [
    "import pandas as pd\n",
    "import numpy as np\n",
    "from scipy.stats import ttest_ind"
   ]
  },
  {
   "cell_type": "markdown",
   "metadata": {},
   "source": [
    "\n",
    "\n",
    "# Assignment 4 - Hypothesis Testing\n",
    "This assignment requires more individual learning than previous assignments - you are encouraged to check out the [pandas documentation](http://pandas.pydata.org/pandas-docs/stable/) to find functions or methods you might not have used yet, or ask questions on [Stack Overflow](http://stackoverflow.com/) and tag them as pandas and python related. And of course, the discussion forums are open for interaction with your peers and the course staff.\n",
    "\n",
    "Definitions:\n",
    "* A _quarter_ is a specific three month period, Q1 is January through March, Q2 is April through June, Q3 is July through September, Q4 is October through December.\n",
    "* A _recession_ is defined as starting with two consecutive quarters of GDP decline, and ending with two consecutive quarters of GDP growth.\n",
    "* A _recession bottom_ is the quarter within a recession which had the lowest GDP.\n",
    "* A _university town_ is a city which has a high percentage of university students compared to the total population of the city.\n",
    "\n",
    "**Hypothesis**: University towns have their mean housing prices less effected by recessions. Run a t-test to compare the ratio of the mean price of houses in university towns the quarter before the recession starts compared to the recession bottom. (`price_ratio=quarter_before_recession/recession_bottom`)\n",
    "\n",
    "The following data files are available for this assignment:\n",
    "* From the [Zillow research data site](http://www.zillow.com/research/data/) there is housing data for the United States. In particular the datafile for [all homes at a city level](http://files.zillowstatic.com/research/public/City/City_Zhvi_AllHomes.csv), ```City_Zhvi_AllHomes.csv```, has median home sale prices at a fine grained level.\n",
    "* From the Wikipedia page on college towns is a list of [university towns in the United States](https://en.wikipedia.org/wiki/List_of_college_towns#College_towns_in_the_United_States) which has been copy and pasted into the file ```university_towns.txt```.\n",
    "* From Bureau of Economic Analysis, US Department of Commerce, the [GDP over time](http://www.bea.gov/national/index.htm#gdp) of the United States in current dollars (use the chained value in 2009 dollars), in quarterly intervals, in the file ```gdplev.xls```. For this assignment, only look at GDP data from the first quarter of 2000 onward.\n",
    "\n",
    "Each function in this assignment below is worth 10%, with the exception of ```run_ttest()```, which is worth 50%."
   ]
  },
  {
   "cell_type": "code",
   "execution_count": 1,
   "metadata": {
    "collapsed": true
   },
   "outputs": [],
   "source": [
    "# Use this dictionary to map state names to two letter acronyms\n",
    "states = {'OH': 'Ohio', 'KY': 'Kentucky', 'AS': 'American Samoa', 'NV': 'Nevada', 'WY': 'Wyoming', 'NA': 'National', 'AL': 'Alabama', 'MD': 'Maryland', 'AK': 'Alaska', 'UT': 'Utah', 'OR': 'Oregon', 'MT': 'Montana', 'IL': 'Illinois', 'TN': 'Tennessee', 'DC': 'District of Columbia', 'VT': 'Vermont', 'ID': 'Idaho', 'AR': 'Arkansas', 'ME': 'Maine', 'WA': 'Washington', 'HI': 'Hawaii', 'WI': 'Wisconsin', 'MI': 'Michigan', 'IN': 'Indiana', 'NJ': 'New Jersey', 'AZ': 'Arizona', 'GU': 'Guam', 'MS': 'Mississippi', 'PR': 'Puerto Rico', 'NC': 'North Carolina', 'TX': 'Texas', 'SD': 'South Dakota', 'MP': 'Northern Mariana Islands', 'IA': 'Iowa', 'MO': 'Missouri', 'CT': 'Connecticut', 'WV': 'West Virginia', 'SC': 'South Carolina', 'LA': 'Louisiana', 'KS': 'Kansas', 'NY': 'New York', 'NE': 'Nebraska', 'OK': 'Oklahoma', 'FL': 'Florida', 'CA': 'California', 'CO': 'Colorado', 'PA': 'Pennsylvania', 'DE': 'Delaware', 'NM': 'New Mexico', 'RI': 'Rhode Island', 'MN': 'Minnesota', 'VI': 'Virgin Islands', 'NH': 'New Hampshire', 'MA': 'Massachusetts', 'GA': 'Georgia', 'ND': 'North Dakota', 'VA': 'Virginia'}"
   ]
  },
  {
   "cell_type": "code",
   "execution_count": 1,
   "metadata": {
    "collapsed": true,
    "scrolled": true,
    "umich_part_id": "021",
    "umich_partlist_id": "004"
   },
   "outputs": [],
   "source": [
    "import pandas as pd\n",
    "import numpy as np\n",
    "def get_list_of_university_towns():\n",
    "    '''Returns a DataFrame of towns and the states they are in from the \n",
    "    university_towns.txt list. The format of the DataFrame should be:\n",
    "    DataFrame( [ [\"Michigan\", \"Ann Arbor\"], [\"Michigan\", \"Yipsilanti\"] ], \n",
    "    columns=[\"State\", \"RegionName\"]  )\n",
    "    \n",
    "    The following cleaning needs to be done:\n",
    "\n",
    "    1. For \"State\", removing characters from \"[\" to the end.\n",
    "    2. For \"RegionName\", when applicable, removing every character from \" (\" to the end.\n",
    "    3. Depending on how you read the data, you may need to remove newline character '\\n'. '''\n",
    "    \n",
    "    with open('university_towns.txt') as file:\n",
    "        utowns=file.readlines()\n",
    "    data=[]\n",
    "    town=0\n",
    "    for line in utowns:\n",
    "        university=line[:-1]\n",
    "        if line[-7:]=='[edit]\\n':\n",
    "            town=line[:-7]\n",
    "            continue\n",
    "        elif '(' in line:\n",
    "            university=line[:line.index('(')-1]\n",
    "        else:\n",
    "            university=line\n",
    "        data.append((town,university))\n",
    "    return pd.DataFrame(data,columns=['State','RegionName'])\n",
    "    #return df\n",
    "#get_list_of_university_towns()"
   ]
  },
  {
   "cell_type": "code",
   "execution_count": 3,
   "metadata": {
    "umich_part_id": "022",
    "umich_partlist_id": "004"
   },
   "outputs": [
    {
     "data": {
      "text/plain": [
       "'2008q3'"
      ]
     },
     "execution_count": 3,
     "metadata": {},
     "output_type": "execute_result"
    }
   ],
   "source": [
    "def get_recession_start():\n",
    "    '''Returns the year and quarter of the recession start time as a \n",
    "    string value in a format such as 2005q3'''\n",
    "    #(skiprows starting from zero so use skiprow=np.arange(220))\n",
    "    df=pd.read_excel('gdplev.xls',skiprows=220 ,usecols=[4,6],header=None,names=['Quarter','GDP'])\n",
    "    recession=[]\n",
    "    #i=0\n",
    "    #while i<=len(df)-6:\n",
    "    for i in range(len(df)-2):#as last two are missing for data of rest of year.\n",
    "        if (df.iloc[i][1]>df.iloc[i+1][1]) and (df.iloc[i+1][1]>df.iloc[i+2][1]):\n",
    "            #if (df.iloc[i+2][1]<df.iloc[i+3][1] and df.iloc[i+3][1]<df.iloc[i+4][1]):\n",
    "            recession.append(df.iloc[i][0])\n",
    "            \n",
    "        \n",
    "    return recession[1]\n",
    "get_recession_start()"
   ]
  },
  {
   "cell_type": "code",
   "execution_count": 4,
   "metadata": {
    "umich_part_id": "023",
    "umich_partlist_id": "004"
   },
   "outputs": [
    {
     "data": {
      "text/plain": [
       "'2009q4'"
      ]
     },
     "execution_count": 4,
     "metadata": {},
     "output_type": "execute_result"
    }
   ],
   "source": [
    "def get_recession_end():\n",
    "    start=get_recession_start()\n",
    "    '''Returns the year and quarter of the recession end time as a \n",
    "    string value in a format such as 2005q3'''\n",
    "    df=pd.read_excel('gdplev.xls',skiprows=220 ,usecols=[4,6],header=None,names=['Quarter','GDP'])\n",
    "    #recession_end=[] \n",
    "    #for i in range(len(df)-2):\n",
    "    #    if (df.iloc[i][1] < df.iloc[i+1][1]) and (df.iloc[i+1][1] < df.iloc[i+2][1]):\n",
    "    #        if df.iloc[i+2][1]<df.iloc[i+3][1] and df.iloc[i+3][1]< df.iloc[i+4][1])\n",
    "    #        recession_end.append(df.iloc[i][0])\n",
    "    \n",
    "    df['Difference']=df['GDP'].diff()\n",
    "    df=df[df['Quarter']>start]\n",
    "    df= df[(df['Difference']>0) & (df['Difference'].shift(1)>0)] #use & not and        \n",
    "    return df['Quarter'].iloc[0]       \n",
    "get_recession_end()    "
   ]
  },
  {
   "cell_type": "code",
   "execution_count": 26,
   "metadata": {
    "umich_part_id": "024",
    "umich_partlist_id": "004"
   },
   "outputs": [
    {
     "data": {
      "text/plain": [
       "'2009q2'"
      ]
     },
     "execution_count": 26,
     "metadata": {},
     "output_type": "execute_result"
    }
   ],
   "source": [
    "def get_recession_bottom():\n",
    "    '''Returns the year and quarter of the recession bottom time as a \n",
    "    string value in a format such as 2005q3'''\n",
    "    #df=pd.read_excel('gdplev.xls',skiprows=220 ,usecols=[4,6],header=None,names=['Quarter','GDP'])\n",
    "    #recession_start_index=get_recession_start()\n",
    "    #recession_end_index=get_recession_end()\n",
    "    #df.set_index('Quarter',drop=False)\n",
    "    #return df.loc[recession_start_index:recession_end_index,'GDP'].idxmin()\n",
    "    start=get_recession_start()\n",
    "    df=pd.read_excel('gdplev.xls',skiprows=220 ,usecols=[4,6],header=None,names=['Quarter','GDP'])\n",
    "    end=get_recession_end()    \n",
    "    df=df[df['Quarter']> start]# was not able to use and here\n",
    "    df=df[df['Quarter']<end]\n",
    "    df=df.sort_values(by='GDP')\n",
    "    \n",
    "    return df['Quarter'].iloc[0]\n",
    "get_recession_bottom()\n",
    "\n",
    "#for i in range(0,len(df)-2,4):\n",
    "    #    min=0\n",
    "    #    quarter=df.iloc[i][0]\n",
    "    #    for j in range(i,4,1):\n",
    "    #        if min<df.iloc[j][1]:\n",
    "    #            min=df.iloc[j][1]\n",
    "    #            quarter=df.iloc[j][0]\n",
    "    #    recession_bottom.append(quarter)"
   ]
  },
  {
   "cell_type": "code",
   "execution_count": 2,
   "metadata": {
    "collapsed": true,
    "umich_part_id": "025",
    "umich_partlist_id": "004"
   },
   "outputs": [],
   "source": [
    "def convert_housing_data_to_quarters():\n",
    "    '''Converts the housing data to quarters and returns it as mean \n",
    "    values in a dataframe. This dataframe should be a dataframe with\n",
    "    columns for 2000q1 through 2016q3, and should have a multi-index\n",
    "    in the shape of [\"State\",\"RegionName\"].\n",
    "    \n",
    "    Note: Quarters are defined in the assignment description, they are\n",
    "    not arbitrary three month periods.\n",
    "    \n",
    "    The resulting dataframe should have 67 columns, and 10,730 rows.\n",
    "    '''\n",
    "    city=pd.read_csv('City_Zhvi_AllHomes.csv')\n",
    "    city['State']=city['State'].map(states)\n",
    "    #city['State']=city['State'].apply(lambda x:states[x.State])\n",
    "    city=city.set_index(['State','RegionName'])#inside a list\n",
    "    city=city.loc[:,'2000-01':]\n",
    "    city=city.loc[:,:'2016-12']\n",
    "    new_cols=[str(x)+y for x in range(2000,2017) for y in ('q1','q2','q3','q4')]\n",
    "    new_cols=new_cols[:-1]\n",
    "    x=0\n",
    "    for column in new_cols:\n",
    "        city[column]=city.iloc[:,x:x+3].mean(axis=1)#use iloc not loc\n",
    "        x=x+3\n",
    "    city=city.loc[:,'2000q1':]#will include previous columns also so use indexing\n",
    "    return city\n",
    "#convert_housing_data_to_quarters()\n"
   ]
  },
  {
   "cell_type": "code",
   "execution_count": 71,
   "metadata": {
    "umich_part_id": "026",
    "umich_partlist_id": "004"
   },
   "outputs": [
    {
     "data": {
      "text/plain": [
       "(True, 3.9723617121333343e-06, 'university town')"
      ]
     },
     "execution_count": 71,
     "metadata": {},
     "output_type": "execute_result"
    }
   ],
   "source": [
    "from scipy import stats\n",
    "def run_ttest():\n",
    "    '''First creates new data showing the decline or growth of housing prices\n",
    "    between the recession start and the recession bottom. Then runs a ttest\n",
    "    comparing the university town values to the non-university towns values, \n",
    "    return whether the alternative hypothesis (that the two groups are the same)\n",
    "    is true or not as well as the p-value of the confidence. \n",
    "    \n",
    "    Return the tuple (different, p, better) where different=True if the t-test is\n",
    "    True at a p<0.01 (we reject the null hypothesis), or different=False if \n",
    "    otherwise (we cannot reject the null hypothesis). The variable p should\n",
    "    be equal to the exact p value returned from scipy.stats.ttest_ind(). The\n",
    "    value for better should be either \"university town\" or \"non-university town\"\n",
    "    depending on which has a lower mean price ratio (which is equivilent to a\n",
    "    reduced market loss).'''\n",
    "    start=get_recession_start()\n",
    "    end=get_recession_end()\n",
    "    housing_data=convert_housing_data_to_quarters()\n",
    "    housing_data=housing_data.loc[:,start:end]\n",
    "    housing_data.reset_index(inplace=True)\n",
    "    housing_data['PriceRatio']=housing_data[start]-housing_data[end]/housing_data[start]\n",
    "    university_towns=get_list_of_university_towns()\n",
    "    unilist=university_towns['RegionName'].tolist()\n",
    "    housing_data['isunitown']=housing_data['RegionName'].apply(lambda x:x in unilist)\n",
    "    housing_data=housing_data.copy()\n",
    "    university_data=housing_data[housing_data['isunitown']==True].dropna()# t-test can't be performed for na_values\n",
    "    nonuniversity_data=housing_data[housing_data['isunitown']==False].dropna()\n",
    "    p = ttest_ind(university_data['PriceRatio'], nonuniversity_data['PriceRatio'])[1]# here 1 is index position\n",
    "    testing= p< 0.01\n",
    "    if university_data['PriceRatio'].mean() < nonuniversity_data['PriceRatio'].mean():\n",
    "        town='university town'\n",
    "    else:\n",
    "        town='non-university town'\n",
    "    return (testing,p,town)\n",
    "run_ttest()\n",
    "    \n",
    "    \n",
    "   "
   ]
  },
  {
   "cell_type": "code",
   "execution_count": null,
   "metadata": {
    "collapsed": true
   },
   "outputs": [],
   "source": []
  }
 ],
 "metadata": {
  "coursera": {
   "course_slug": "python-data-analysis",
   "graded_item_id": "Il9Fx",
   "launcher_item_id": "TeDW0",
   "part_id": "WGlun"
  },
  "kernelspec": {
   "display_name": "Python 3",
   "language": "python",
   "name": "python3"
  },
  "language_info": {
   "codemirror_mode": {
    "name": "ipython",
    "version": 3
   },
   "file_extension": ".py",
   "mimetype": "text/x-python",
   "name": "python",
   "nbconvert_exporter": "python",
   "pygments_lexer": "ipython3",
   "version": "3.6.2"
  },
  "umich": {
   "id": "Assignment 4",
   "version": "1.1"
  }
 },
 "nbformat": 4,
 "nbformat_minor": 1
}
